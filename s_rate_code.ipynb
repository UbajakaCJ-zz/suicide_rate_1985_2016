{
 "cells": [
  {
   "cell_type": "code",
   "execution_count": 1,
   "metadata": {},
   "outputs": [],
   "source": [
    "import numpy as np\n",
    "from collections import defaultdict\n",
    "import pandas as pd\n",
    "import unicodecsv"
   ]
  },
  {
   "cell_type": "code",
   "execution_count": 2,
   "metadata": {},
   "outputs": [],
   "source": [
    "with open('master.csv', 'rb') as f:\n",
    "    reader = unicodecsv.DictReader(f)\n",
    "    master = list(reader)"
   ]
  },
  {
   "cell_type": "code",
   "execution_count": 3,
   "metadata": {
    "scrolled": true
   },
   "outputs": [
    {
     "data": {
      "text/plain": [
       "OrderedDict([('\\ufeffcountry', 'Albania'),\n",
       "             ('year', '1987'),\n",
       "             ('sex', 'male'),\n",
       "             ('age', '15-24 years'),\n",
       "             ('suicides_no', '21'),\n",
       "             ('population', '312900'),\n",
       "             ('suicides/100k pop', '6.71'),\n",
       "             ('country-year', 'Albania1987'),\n",
       "             ('HDI for year', ''),\n",
       "             (' gdp_for_year ($) ', '2,156,624,900'),\n",
       "             ('gdp_per_capita ($)', '796'),\n",
       "             ('generation', 'Generation X')])"
      ]
     },
     "execution_count": 3,
     "metadata": {},
     "output_type": "execute_result"
    }
   ],
   "source": [
    "master[0]"
   ]
  },
  {
   "cell_type": "code",
   "execution_count": 4,
   "metadata": {},
   "outputs": [],
   "source": [
    "# takes a string which is either an empty string or represents an integer,\n",
    "# and returns an int or None\n",
    "\n",
    "def parse_maybe_int(i):\n",
    "    if i == '':\n",
    "        return None\n",
    "    else:\n",
    "        return int(i)\n",
    "    \n",
    "def parse_maybe_float(i):\n",
    "    if i == '':\n",
    "        return None\n",
    "    else:\n",
    "        return float(i)\n",
    "    \n",
    "def parse_maybe_none(i):\n",
    "    if i == '':\n",
    "        return None\n",
    "    \n",
    "def parse_int_with_comma(i):\n",
    "    if i == '':\n",
    "        return None\n",
    "    else:\n",
    "        return int(i.replace(',',''))\n",
    "    \n",
    "    \n",
    "# int(datum['gdp_for_year'].replace(',',''))"
   ]
  },
  {
   "cell_type": "code",
   "execution_count": 5,
   "metadata": {
    "scrolled": true
   },
   "outputs": [],
   "source": [
    "for data in master:\n",
    "    data['country'] = data['\\ufeffcountry']\n",
    "    del[data['\\ufeffcountry']]\n",
    "    data['suicides_per_100k_pop'] = data['suicides/100k pop']\n",
    "    del[data['suicides/100k pop']]\n",
    "    data['country_year'] = data['country-year']\n",
    "    del[data['country-year']]\n",
    "    data['HDI_for_year'] = data['HDI for year']\n",
    "    del[data['HDI for year']]\n",
    "    data['gdp_for_year'] = data[' gdp_for_year ($) ']\n",
    "    del[data[' gdp_for_year ($) ']]\n",
    "    data['gdp_per_capita'] = data['gdp_per_capita ($)']\n",
    "    del[data['gdp_per_capita ($)']]"
   ]
  },
  {
   "cell_type": "code",
   "execution_count": 6,
   "metadata": {},
   "outputs": [
    {
     "data": {
      "text/plain": [
       "OrderedDict([('year', '1987'),\n",
       "             ('sex', 'male'),\n",
       "             ('age', '15-24 years'),\n",
       "             ('suicides_no', '21'),\n",
       "             ('population', '312900'),\n",
       "             ('generation', 'Generation X'),\n",
       "             ('country', 'Albania'),\n",
       "             ('suicides_per_100k_pop', '6.71'),\n",
       "             ('country_year', 'Albania1987'),\n",
       "             ('HDI_for_year', ''),\n",
       "             ('gdp_for_year', '2,156,624,900'),\n",
       "             ('gdp_per_capita', '796')])"
      ]
     },
     "execution_count": 6,
     "metadata": {},
     "output_type": "execute_result"
    }
   ],
   "source": [
    "master[0]"
   ]
  },
  {
   "cell_type": "code",
   "execution_count": 7,
   "metadata": {},
   "outputs": [
    {
     "data": {
      "text/plain": [
       "OrderedDict([('year', '1987'),\n",
       "             ('sex', 'male'),\n",
       "             ('age', '15-24 years'),\n",
       "             ('suicides_no', '21'),\n",
       "             ('population', '312900'),\n",
       "             ('generation', 'Generation X'),\n",
       "             ('country', 'Albania'),\n",
       "             ('suicides_per_100k_pop', '6.71'),\n",
       "             ('country_year', 'Albania1987'),\n",
       "             ('HDI_for_year', ''),\n",
       "             ('gdp_for_year', '2,156,624,900'),\n",
       "             ('gdp_per_capita', '796')])"
      ]
     },
     "execution_count": 7,
     "metadata": {},
     "output_type": "execute_result"
    }
   ],
   "source": [
    "master[0]"
   ]
  },
  {
   "cell_type": "code",
   "execution_count": 8,
   "metadata": {},
   "outputs": [],
   "source": [
    "for data in master:\n",
    "    data['year'] = parse_maybe_int(data['year'])\n",
    "    data['suicides_no'] = parse_maybe_int(data['suicides_no'])\n",
    "    data['population'] = parse_maybe_int(data['population'])\n",
    "    data['suicides_per_100k_pop'] = parse_maybe_float(data['suicides_per_100k_pop'])\n",
    "    data['HDI_for_year'] = parse_maybe_none(data['HDI_for_year'])\n",
    "    data['gdp_for_year'] = parse_int_with_comma(data['gdp_for_year'])\n",
    "    data['gdp_per_capita'] = parse_maybe_int(data['gdp_per_capita'])\n",
    "    "
   ]
  },
  {
   "cell_type": "code",
   "execution_count": 9,
   "metadata": {},
   "outputs": [
    {
     "data": {
      "text/plain": [
       "OrderedDict([('year', 1987),\n",
       "             ('sex', 'male'),\n",
       "             ('age', '15-24 years'),\n",
       "             ('suicides_no', 21),\n",
       "             ('population', 312900),\n",
       "             ('generation', 'Generation X'),\n",
       "             ('country', 'Albania'),\n",
       "             ('suicides_per_100k_pop', 6.71),\n",
       "             ('country_year', 'Albania1987'),\n",
       "             ('HDI_for_year', None),\n",
       "             ('gdp_for_year', 2156624900),\n",
       "             ('gdp_per_capita', 796)])"
      ]
     },
     "execution_count": 9,
     "metadata": {},
     "output_type": "execute_result"
    }
   ],
   "source": [
    "master[0]"
   ]
  },
  {
   "cell_type": "code",
   "execution_count": 10,
   "metadata": {},
   "outputs": [
    {
     "data": {
      "text/plain": [
       "OrderedDict([('year', 1987),\n",
       "             ('sex', 'male'),\n",
       "             ('age', '35-54 years'),\n",
       "             ('suicides_no', 16),\n",
       "             ('population', 308000),\n",
       "             ('generation', 'Silent'),\n",
       "             ('country', 'Albania'),\n",
       "             ('suicides_per_100k_pop', 5.19),\n",
       "             ('country_year', 'Albania1987'),\n",
       "             ('HDI_for_year', None),\n",
       "             ('gdp_for_year', 2156624900),\n",
       "             ('gdp_per_capita', 796)])"
      ]
     },
     "execution_count": 10,
     "metadata": {},
     "output_type": "execute_result"
    }
   ],
   "source": [
    "master[1]"
   ]
  },
  {
   "cell_type": "code",
   "execution_count": 11,
   "metadata": {
    "scrolled": false
   },
   "outputs": [],
   "source": [
    "# master_df = pd.DataFrame(master)\n",
    "# master_df.head()"
   ]
  },
  {
   "cell_type": "code",
   "execution_count": 12,
   "metadata": {},
   "outputs": [
    {
     "data": {
      "text/plain": [
       "27820"
      ]
     },
     "execution_count": 12,
     "metadata": {},
     "output_type": "execute_result"
    }
   ],
   "source": [
    "len(master)"
   ]
  },
  {
   "cell_type": "code",
   "execution_count": null,
   "metadata": {},
   "outputs": [],
   "source": []
  },
  {
   "cell_type": "code",
   "execution_count": 13,
   "metadata": {},
   "outputs": [],
   "source": [
    "def get_unique_countries(data):\n",
    "    unique_countries = set()\n",
    "    for data_point in data:\n",
    "        unique_countries.add(data_point['country'])\n",
    "    return unique_countries"
   ]
  },
  {
   "cell_type": "code",
   "execution_count": 14,
   "metadata": {},
   "outputs": [
    {
     "data": {
      "text/plain": [
       "101"
      ]
     },
     "execution_count": 14,
     "metadata": {},
     "output_type": "execute_result"
    }
   ],
   "source": [
    "unique_countries = get_unique_countries(master)\n",
    "len(unique_countries)"
   ]
  },
  {
   "cell_type": "code",
   "execution_count": 15,
   "metadata": {},
   "outputs": [],
   "source": [
    "data_by_country = defaultdict(list)\n",
    "for data in master:\n",
    "    country = data['country']\n",
    "    data_by_country[country].append(data)\n",
    "    \n",
    "# data_by_country['Sri Lanka']"
   ]
  },
  {
   "cell_type": "code",
   "execution_count": 16,
   "metadata": {},
   "outputs": [],
   "source": [
    "total_pop_by_country = {}\n",
    "\n",
    "for country, data in data_by_country.items():\n",
    "    total_population = 0\n",
    "    for datum in data:\n",
    "        total_population += datum['population']\n",
    "    total_pop_by_country[country] = total_population\n",
    "    \n",
    "# total_pop_by_country"
   ]
  },
  {
   "cell_type": "code",
   "execution_count": 17,
   "metadata": {},
   "outputs": [],
   "source": [
    "# def total_by_country(i):\n",
    "#     total_value_by_country = {}\n",
    "#     for key,value in i.items():\n",
    "#         total_value = 0\n",
    "#         for datum in value:\n",
    "#             total_value += datum[]"
   ]
  },
  {
   "cell_type": "code",
   "execution_count": 18,
   "metadata": {},
   "outputs": [],
   "source": [
    "total_gdp_by_country = {}\n",
    "\n",
    "for country, data in data_by_country.items():\n",
    "    total_gdp = 0\n",
    "    for datum in data:\n",
    "        total_gdp += datum['gdp_for_year']\n",
    "    total_gdp_by_country[country] = total_gdp\n",
    "    \n",
    "# total_gdp_by_country"
   ]
  },
  {
   "cell_type": "code",
   "execution_count": 19,
   "metadata": {},
   "outputs": [],
   "source": [
    "total_gdp_per_capita_country = {}\n",
    "\n",
    "for country, data in data_by_country.items():\n",
    "    total_gdp_capita = 0\n",
    "    for datum in data:\n",
    "        total_gdp_capita += datum['gdp_per_capita']\n",
    "    total_gdp_per_capita_country[country] = total_gdp_capita\n",
    "    \n",
    "# total_gdp_per_capita_country"
   ]
  },
  {
   "cell_type": "code",
   "execution_count": 20,
   "metadata": {},
   "outputs": [],
   "source": [
    "total_suicide_by_country = {}\n",
    "\n",
    "for country, data in data_by_country.items():\n",
    "    total_suicide = 0\n",
    "    for datum in data:\n",
    "        total_suicide += datum['suicides_no']\n",
    "    total_suicide_by_country[country] = total_suicide\n",
    "    \n",
    "# total_suicide_by_country"
   ]
  },
  {
   "cell_type": "code",
   "execution_count": 21,
   "metadata": {},
   "outputs": [],
   "source": [
    "total_suicides_per_100k_country = {}\n",
    "\n",
    "for country, data in data_by_country.items():\n",
    "    total_suicides_per_100k = 0\n",
    "    for datum in data:\n",
    "        total_suicides_per_100k += datum['suicides_per_100k_pop']\n",
    "    total_suicides_per_100k_country[country] = total_suicides_per_100k\n",
    "    \n",
    "# total_suicides_per_100k_country"
   ]
  },
  {
   "cell_type": "code",
   "execution_count": 22,
   "metadata": {},
   "outputs": [
    {
     "data": {
      "text/plain": [
       "('Russian Federation', 1209742)"
      ]
     },
     "execution_count": 22,
     "metadata": {},
     "output_type": "execute_result"
    }
   ],
   "source": [
    "def get_max(data):\n",
    "    country_max = None\n",
    "    max_value = 0\n",
    "    for key, value in data.items():\n",
    "        if value > max_value:\n",
    "            max_value = value\n",
    "            country_max = key\n",
    "    return country_max, max_value\n",
    "\n",
    "get_max(total_suicide_by_country)"
   ]
  },
  {
   "cell_type": "code",
   "execution_count": 23,
   "metadata": {},
   "outputs": [],
   "source": [
    "def get_min(data):\n",
    "    country_min = get_max(data)[0]\n",
    "    min_value = get_max(data)[1]\n",
    "    for key, value in data.items():\n",
    "        if value < min_value:\n",
    "            min_value = value\n",
    "            country_min = key\n",
    "    return country_min, min_value"
   ]
  },
  {
   "cell_type": "code",
   "execution_count": 24,
   "metadata": {},
   "outputs": [
    {
     "name": "stdout",
     "output_type": "stream",
     "text": [
      "United States 8054027201\n",
      "Dominica 66400\n"
     ]
    }
   ],
   "source": [
    "country_with_max_pop, max_pop = get_max(total_pop_by_country)\n",
    "country_with_min_pop, min_pop = get_min(total_pop_by_country)\n",
    "    \n",
    "print(country_with_max_pop, max_pop)\n",
    "print(country_with_min_pop, min_pop)"
   ]
  },
  {
   "cell_type": "code",
   "execution_count": 25,
   "metadata": {},
   "outputs": [
    {
     "name": "stdout",
     "output_type": "stream",
     "text": [
      "United States 3909984936000000\n",
      "Dominica 1183022220\n"
     ]
    }
   ],
   "source": [
    "country_with_max_gdp, max_gdp = get_max(total_gdp_by_country)\n",
    "country_with_min_gdp, min_gdp = get_min(total_gdp_by_country)\n",
    "        \n",
    "print(country_with_max_gdp, max_gdp)\n",
    "print(country_with_min_gdp, min_gdp)"
   ]
  },
  {
   "cell_type": "code",
   "execution_count": 26,
   "metadata": {},
   "outputs": [
    {
     "name": "stdout",
     "output_type": "stream",
     "text": [
      "Luxembourg 25593000\n",
      "Dominica 17820\n"
     ]
    }
   ],
   "source": [
    "country_with_max_gdp_capita, max_gdp_capita = get_max(total_gdp_per_capita_country)\n",
    "country_with_min_gdp_capita, min_gdp_capita = get_min(total_gdp_per_capita_country)\n",
    "        \n",
    "print(country_with_max_gdp_capita, max_gdp_capita)\n",
    "print(country_with_min_gdp_capita, min_gdp_capita)"
   ]
  },
  {
   "cell_type": "code",
   "execution_count": 27,
   "metadata": {},
   "outputs": [
    {
     "name": "stdout",
     "output_type": "stream",
     "text": [
      "Russian Federation 1209742\n",
      "Dominica 0\n"
     ]
    }
   ],
   "source": [
    "country_with_max_suicide_no, max_suicide_no = get_max(total_suicide_by_country)\n",
    "country_with_min_suicide_no, min_suicide_no = get_min(total_suicide_by_country)\n",
    "\n",
    "print(country_with_max_suicide_no, max_suicide_no)\n",
    "print(country_with_min_suicide_no, min_suicide_no)"
   ]
  },
  {
   "cell_type": "code",
   "execution_count": 28,
   "metadata": {},
   "outputs": [
    {
     "name": "stdout",
     "output_type": "stream",
     "text": [
      "Russian Federation 11305.130000000006\n",
      "Dominica 0.0\n"
     ]
    }
   ],
   "source": [
    "country_max_suicides_per_100k, max_suicide_per_100k = get_max(total_suicides_per_100k_country)\n",
    "country_min_suicides_per_100k, min_suicide_per_100k = get_min(total_suicides_per_100k_country)\n",
    "\n",
    "print(country_max_suicides_per_100k, max_suicide_per_100k)\n",
    "print(country_min_suicides_per_100k, min_suicide_per_100k)"
   ]
  },
  {
   "cell_type": "code",
   "execution_count": 29,
   "metadata": {},
   "outputs": [
    {
     "name": "stdout",
     "output_type": "stream",
     "text": [
      "Mean: 66816.0396039604\n",
      "Std: 181256.8961922441\n",
      "Max: 1209742\n",
      "Min: 0\n"
     ]
    }
   ],
   "source": [
    "total_suicide_no = list(total_suicide_by_country.values())\n",
    "print('Mean:', np.mean(total_suicide_no))\n",
    "print('Std:', np.std(total_suicide_no))\n",
    "print('Max:', np.max(total_suicide_no))\n",
    "print('Min:', np.min(total_suicide_no))"
   ]
  },
  {
   "cell_type": "code",
   "execution_count": 30,
   "metadata": {},
   "outputs": [
    {
     "name": "stdout",
     "output_type": "stream",
     "text": [
      "Mean: 3530.1369306930687\n",
      "Std: 2921.4992694473954\n",
      "Max: 11305.130000000006\n",
      "Min: 0.0\n"
     ]
    }
   ],
   "source": [
    "total_suicide_per_100k = list(total_suicides_per_100k_country.values())\n",
    "print('Mean:', np.mean(total_suicide_per_100k))\n",
    "print('Std:', np.std(total_suicide_per_100k))\n",
    "print('Max:', np.max(total_suicide_per_100k))\n",
    "print('Min:', np.min(total_suicide_per_100k))"
   ]
  },
  {
   "cell_type": "code",
   "execution_count": 31,
   "metadata": {},
   "outputs": [
    {
     "name": "stdout",
     "output_type": "stream",
     "text": [
      "Mean: 122733292656393.2\n",
      "Std: 434356422069337.0\n",
      "Max: 3909984936000000\n",
      "Min: 1183022220\n"
     ]
    }
   ],
   "source": [
    "total_gdp = list(total_gdp_by_country.values())\n",
    "print('Mean:', np.mean(total_gdp))\n",
    "print('Std:', np.std(total_gdp))\n",
    "print('Max:', np.max(total_gdp))\n",
    "print('Min:', np.min(total_gdp))"
   ]
  },
  {
   "cell_type": "code",
   "execution_count": 32,
   "metadata": {},
   "outputs": [
    {
     "name": "stdout",
     "output_type": "stream",
     "text": [
      "Mean: 4645792.475247525\n",
      "Std: 5288472.289673265\n",
      "Max: 25593000\n",
      "Min: 17820\n"
     ]
    }
   ],
   "source": [
    "total_gdp_capita = list(total_gdp_per_capita_country.values())\n",
    "print('Mean:', np.mean(total_gdp_capita))\n",
    "print('Std:', np.std(total_gdp_capita))\n",
    "print('Max:', np.max(total_gdp_capita))\n",
    "print('Min:', np.min(total_gdp_capita))"
   ]
  },
  {
   "cell_type": "code",
   "execution_count": 33,
   "metadata": {},
   "outputs": [
    {
     "name": "stdout",
     "output_type": "stream",
     "text": [
      "Mean: 508140182.5346535\n",
      "Std: 1117379983.8164601\n",
      "Max: 8054027201\n",
      "Min: 66400\n"
     ]
    }
   ],
   "source": [
    "total_pop = list(total_pop_by_country.values())\n",
    "print('Mean:', np.mean(total_pop))\n",
    "print('Std:', np.std(total_pop))\n",
    "print('Max:', np.max(total_pop))\n",
    "print('Min:', np.min(total_pop))"
   ]
  }
 ],
 "metadata": {
  "kernelspec": {
   "display_name": "Python 3",
   "language": "python",
   "name": "python3"
  },
  "language_info": {
   "codemirror_mode": {
    "name": "ipython",
    "version": 3
   },
   "file_extension": ".py",
   "mimetype": "text/x-python",
   "name": "python",
   "nbconvert_exporter": "python",
   "pygments_lexer": "ipython3",
   "version": "3.6.4"
  }
 },
 "nbformat": 4,
 "nbformat_minor": 2
}
